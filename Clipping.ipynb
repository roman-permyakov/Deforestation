{
 "cells": [
  {
   "cell_type": "markdown",
   "metadata": {},
   "source": [
    "<h2>Clipping imagery for tiles</h2>"
   ]
  },
  {
   "cell_type": "code",
   "execution_count": 7,
   "metadata": {},
   "outputs": [],
   "source": [
    "import os\n",
    "from osgeo import gdal\n",
    "\n",
    "def clip (filename, outpath):\n",
    "    in_path = \"D:/python_projects/Deforestation/prediction/input/\"\n",
    "    input_filename = filename\n",
    "\n",
    "    out_path = \"D:/python_projects/Deforestation/prediction/output/\" + outpath\n",
    "    output_filename = ''\n",
    "\n",
    "    tile_size_x = 256\n",
    "    tile_size_y = 256\n",
    "\n",
    "    ## Gdal function to clip the imagery\n",
    "    ds = gdal.Open(in_path + input_filename)\n",
    "    band = ds.GetRasterBand(1)\n",
    "    xsize = band.XSize\n",
    "    ysize = band.YSize\n",
    "    \n",
    "    # Tile namestile aka ...256_256.tif\"\n",
    "    for i in range(0, xsize, tile_size_x):\n",
    "        for j in range(0, ysize, tile_size_y):\n",
    "            com_string = \"gdal_translate -of GTIFF -srcwin \" + str(i)+ \", \" + str(j) + \", \" + str(tile_size_x) + \", \" + str(tile_size_y) + \" \" + str(in_path) + str(input_filename) + \" \" + str(out_path) + str(output_filename) + str(i) + \"_\" + str(j) + \".tif\"\n",
    "            os.system(com_string)\n",
    "            \n",
    "    print(\"finished\")"
   ]
  },
  {
   "cell_type": "code",
   "execution_count": 8,
   "metadata": {
    "scrolled": true
   },
   "outputs": [
    {
     "name": "stdout",
     "output_type": "stream",
     "text": [
      "finished\n"
     ]
    }
   ],
   "source": [
    "# Select image for clipping\n",
    "input_filenames = [\"kanopus.TIF\"]\n",
    "outpath = [\"test_\"]\n",
    "\n",
    "for each, each1 in zip (input_filenames,outpath):\n",
    "    clip (each, each1)"
   ]
  },
  {
   "cell_type": "code",
   "execution_count": 12,
   "metadata": {},
   "outputs": [],
   "source": [
    "# Change tile names to test_1(2/3..).tiff\n",
    "file_path = \"D:/python_projects/Deforestation/prediction/output/\"\n",
    "files_to_rename = os.listdir(file_path)\n",
    "\n",
    "new_name = 'test_'\n",
    "\n",
    "for i, file_name in enumerate(files_to_rename):\n",
    "    new_file_name = new_name + str(i) + '.tif'\n",
    "    \n",
    "    os.rename(file_path + file_name, \n",
    "          file_path + new_file_name)"
   ]
  },
  {
   "cell_type": "code",
   "execution_count": null,
   "metadata": {},
   "outputs": [],
   "source": []
  }
 ],
 "metadata": {
  "kernelspec": {
   "display_name": "Python 3 (ipykernel)",
   "language": "python",
   "name": "python3"
  },
  "language_info": {
   "codemirror_mode": {
    "name": "ipython",
    "version": 3
   },
   "file_extension": ".py",
   "mimetype": "text/x-python",
   "name": "python",
   "nbconvert_exporter": "python",
   "pygments_lexer": "ipython3",
   "version": "3.9.7"
  }
 },
 "nbformat": 4,
 "nbformat_minor": 2
}
